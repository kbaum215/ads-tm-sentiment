{
 "cells": [
  {
   "cell_type": "markdown",
   "id": "7f79baf9",
   "metadata": {},
   "source": [
    "# ADS 509 Sentiment Assignment\n",
    "\n",
    "This notebook holds the Sentiment Assignment for Module 6 in ADS 509, Applied Text Mining. Work through this notebook, writing code and answering questions where required. \n",
    "\n",
    "In a previous assignment you put together Twitter data and lyrics data on two artists. In this assignment we apply sentiment analysis to those data sets. If, for some reason, you did not complete that previous assignment, data to use for this assignment can be found in the assignment materials section of Blackboard. \n"
   ]
  },
  {
   "cell_type": "markdown",
   "id": "aae8e2e1",
   "metadata": {},
   "source": [
    "## General Assignment Instructions\n",
    "\n",
    "These instructions are included in every assignment, to remind you of the coding standards for the class. Feel free to delete this cell after reading it. \n",
    "\n",
    "One sign of mature code is conforming to a style guide. We recommend the [Google Python Style Guide](https://google.github.io/styleguide/pyguide.html). If you use a different style guide, please include a cell with a link. \n",
    "\n",
    "Your code should be relatively easy-to-read, sensibly commented, and clean. Writing code is a messy process, so please be sure to edit your final submission. Remove any cells that are not needed or parts of cells that contain unnecessary code. Remove inessential `import` statements and make sure that all such statements are moved into the designated cell. \n",
    "\n",
    "Make use of non-code cells for written commentary. These cells should be grammatical and clearly written. In some of these cells you will have questions to answer. The questions will be marked by a \"Q:\" and will have a corresponding \"A:\" spot for you. *Make sure to answer every question marked with a `Q:` for full credit.* \n"
   ]
  },
  {
   "cell_type": "code",
   "execution_count": 55,
   "id": "e2d096b7",
   "metadata": {},
   "outputs": [],
   "source": [
    "import os\n",
    "import re\n",
    "import emoji\n",
    "import pandas as pd\n",
    "import numpy as np\n",
    "\n",
    "from collections import Counter, defaultdict\n",
    "from string import punctuation\n",
    "\n",
    "from nltk.corpus import stopwords\n",
    "\n",
    "sw = stopwords.words(\"english\")"
   ]
  },
  {
   "cell_type": "code",
   "execution_count": 56,
   "id": "6b555ab2",
   "metadata": {},
   "outputs": [],
   "source": [
    "# Add any additional import statements you need here\n",
    "import json\n",
    "from nltk.tokenize import word_tokenize\n",
    "import seaborn as sns\n",
    "import matplotlib.pyplot as plt\n",
    "from collections import defaultdict\n"
   ]
  },
  {
   "cell_type": "code",
   "execution_count": 57,
   "id": "923b5a86",
   "metadata": {},
   "outputs": [],
   "source": [
    "# NOTE from KB: I decided to move the twitter and lyrics files manually\n",
    "# change `data_location` to the location of the folder on your machine.\n",
    "# data_location = \"/users/rsadeghian/textmining/ads-tm-api-scrape/\"\n",
    "\n",
    "# These subfolders should still work if you correctly stored the \n",
    "# data from the Module 1 assignment\n",
    "twitter_folder = \"twitter/\"\n",
    "lyrics_folder = \"lyrics/\"\n",
    "\n",
    "positive_words_file = \"positive-words.txt\"\n",
    "negative_words_file = \"negative-words.txt\"\n",
    "tidy_text_file = \"tidytext_sentiments.txt\""
   ]
  },
  {
   "cell_type": "markdown",
   "id": "9d3bf93e",
   "metadata": {},
   "source": [
    "## Data Input\n",
    "\n",
    "Now read in each of the corpora. For the lyrics data, it may be convenient to store the entire contents of the file to make it easier to inspect the titles individually, as you'll do in the last part of the assignment. In the solution, I stored the lyrics data in a dictionary with two dimensions of keys: artist and song. The value was the file contents. A Pandas data frame would work equally well. \n",
    "\n",
    "For the Twitter data, we only need the description field for this assignment. Feel free all the descriptions read it into a data structure. In the solution, I stored the descriptions as a dictionary of lists, with the key being the artist. \n",
    "\n",
    "\n"
   ]
  },
  {
   "cell_type": "code",
   "execution_count": 58,
   "id": "37d70801",
   "metadata": {},
   "outputs": [],
   "source": [
    "# Read in the lyrics data\n",
    "\n",
    "lyrics_data = defaultdict(lambda: defaultdict(str))\n",
    "\n",
    "# Loop through each artist folder within the lyrics folder\n",
    "for artist_folder in os.listdir(lyrics_folder):\n",
    "    artist_path = os.path.join(lyrics_folder, artist_folder)\n",
    "    if os.path.isdir(artist_path):  \n",
    "        for song_file in os.listdir(artist_path):\n",
    "            if song_file.endswith(\".txt\"): \n",
    "                song_title = song_file.replace('.txt', '')\n",
    "                with open(os.path.join(artist_path, song_file), 'r', encoding='utf-8') as f:\n",
    "                    lyrics_data[artist_folder][song_title] = f.read()"
   ]
  },
  {
   "cell_type": "code",
   "execution_count": 59,
   "id": "fa5c3f30-1169-4875-9b89-af7bcf14213b",
   "metadata": {},
   "outputs": [
    {
     "name": "stdout",
     "output_type": "stream",
     "text": [
      "Artist: joni\n",
      "  Song: jonimitchell_ladiesofthecanyon\n",
      "  Lyrics (first 100 characters): \"Ladies Of The Canyon\"\n",
      "\n",
      "Trina wears her wampum beadsShe fills her drawing book with linesSewing lace\n",
      "\n",
      "\n",
      "  Song: jonimitchell_bothsidesnow\n",
      "  Lyrics (first 100 characters): \"Both Sides Now\"\n",
      "\n",
      "Rows and floes of angel hairAnd ice cream castles in the airAnd feather canyons ev\n",
      "\n",
      "\n",
      "Artist: kanye\n",
      "  Song: kanyewest_golddigger\n",
      "  Lyrics (first 100 characters): \"Gold Digger\"\n",
      "\n",
      "[Jamie Foxx:]She take my money when I'm in needYeah, she's a triflin' friend indeedOh\n",
      "\n",
      "\n",
      "  Song: kanyewest_intro\n",
      "  Lyrics (first 100 characters): \"Intro\"\n",
      "\n",
      "[DeRay Davis:]Kanye, can I talk to you for a minute?Me and the other faculty members was wo\n",
      "\n",
      "\n"
     ]
    }
   ],
   "source": [
    "# Inspecting that the lyrics data was pulled correctly\n",
    "for artist, songs in list(lyrics_data.items())[:2]:  \n",
    "    print(f\"Artist: {artist}\")\n",
    "    for song, lyrics in list(songs.items())[:2]:  \n",
    "        print(f\"  Song: {song}\")\n",
    "        print(f\"  Lyrics (first 100 characters): {lyrics[:100]}\")  \n",
    "        print(\"\\n\")  "
   ]
  },
  {
   "cell_type": "code",
   "execution_count": 60,
   "id": "debcac5a",
   "metadata": {},
   "outputs": [],
   "source": [
    "# Read in the twitter data\n",
    "\n",
    "twitter_folder = \"twitter/\"\n",
    "\n",
    "# Initialize a dictionary to store the descriptions\n",
    "twitter_data = defaultdict(list)\n",
    "\n",
    "# List all files in the twitter folder that end with '_followers_data.txt'\n",
    "twitter_files = [f for f in os.listdir(twitter_folder) if f.endswith('_followers_data.txt')]\n",
    "\n",
    "# Loop through each file in the list\n",
    "for twitter_file in twitter_files:\n",
    "    artist_name = twitter_file.replace('_followers_data.txt', '')  # Extract the artist name from the file name\n",
    "    with open(os.path.join(twitter_folder, twitter_file), 'r', encoding='utf-8') as f:\n",
    "        for line in f:\n",
    "            twitter_data[artist_name].append(line.strip())  # Read each line as a description and add it to the list"
   ]
  },
  {
   "cell_type": "code",
   "execution_count": 61,
   "id": "065048a2-6d09-4e66-a720-d007830fb54e",
   "metadata": {},
   "outputs": [
    {
     "name": "stdout",
     "output_type": "stream",
     "text": [
      "Artist: cher\n",
      "  Description: screen_name\tname\tid\tlocation\tfollowers_count\tfriends_count\tdescription\n",
      "\n",
      "\n",
      "  Description: hsmcnp\tCountry Girl\t35152213\t\t1302\t1014\n",
      "\n",
      "\n",
      "  Description: horrormomy\tJeny\t742153090850164742\tEarth\t81\t514\t𝙿𝚛𝚘𝚞𝚍 𝚜𝚞𝚙𝚙𝚘𝚛𝚝𝚎𝚛 𝚘𝚏 𝚖𝚎𝚜𝚜𝚢 𝚋𝚞𝚗𝚜 & 𝚕𝚎𝚐𝚐𝚒𝚗𝚐𝚜\n",
      "\n",
      "\n",
      "  Description: anju79990584\tanju\t1496463006451974150\t\t13\t140\t163㎝／愛かっぷ💜26歳🍒 工〇好きな女の子💓 フォローしてくれたらDMします🧡\n",
      "\n",
      "\n",
      "  Description: gallionjenna\tJ\t3366479914\t\t752\t556\tcsu\n",
      "\n",
      "\n",
      "Artist: robynkonichiwa\n",
      "  Description: screen_name\tname\tid\tlocation\tfollowers_count\tfriends_count\tdescription\n",
      "\n",
      "\n",
      "  Description: AngelxoArts\tAngelxo\t1424055675030806529\tZacatlan, Puebla, Mexico\t29\t535\t\"I love chill\" •Facebook / I\n",
      "\n",
      "\n",
      "  Description: songsfornikola\tjohnny\t1502717352575651840\t\t6\t318\tbooks, movies, music, nature & TV shows. OG Sweetee\n",
      "\n",
      "\n",
      "  Description: thibaud_lola\tThibaud Lola\t1502407708246478852\t\t3\t69\t(Am)auteur en herbe 🌱 - juriste en paille 🤡 - Am\n",
      "\n",
      "\n",
      "  Description: KyleSew2112\tKyle S 🌹🇬🇧🇺🇦\t3423966821\tSouth East London\t1258\t3444\tThis Twitter profile is full of sarc\n",
      "\n",
      "\n"
     ]
    }
   ],
   "source": [
    "# To check if the twitter data was loaded correctly\n",
    "for artist, descriptions in list(twitter_data.items())[:2]:  \n",
    "    print(f\"Artist: {artist}\")\n",
    "    for description in descriptions[:5]:  \n",
    "        print(f\"  Description: {description[:100]}\")  \n",
    "        print(\"\\n\")  "
   ]
  },
  {
   "cell_type": "code",
   "execution_count": 62,
   "id": "af9e7a4b",
   "metadata": {},
   "outputs": [],
   "source": [
    "# Read in the positive and negative words and the\n",
    "# tidytext sentiment. Store these so that the positive\n",
    "# words are associated with a score of +1 and negative words\n",
    "# are associated with a score of -1. You can use a dataframe or a \n",
    "# dictionary for this.\n",
    "\n",
    "# Read in positive and negative words and assign scores\n",
    "positive_words = pd.read_csv('positive-words.txt', comment=';', header=None, names=['word'])\n",
    "positive_words['score'] = 1\n",
    "\n",
    "negative_words = pd.read_csv('negative-words.txt', comment=';', header=None, names=['word'])\n",
    "negative_words['score'] = -1\n",
    "\n",
    "# Combine both into a single DataFrame\n",
    "sentiment_words_df = pd.concat([positive_words, negative_words])\n",
    "\n",
    "# Read in the tidytext sentiments\n",
    "tidytext_sentiments = pd.read_csv('tidytext_sentiments.txt', delimiter='\\t')\n",
    "\n",
    "# Now you can map the sentiment to scores, assuming 'positive' is +1 and 'negative' is -1\n",
    "tidytext_sentiments['score'] = tidytext_sentiments['sentiment'].map({'positive': 1, 'negative': -1})\n"
   ]
  },
  {
   "cell_type": "code",
   "execution_count": 63,
   "id": "13992bd6-36fc-4c6a-b6f4-553c268b227f",
   "metadata": {},
   "outputs": [
    {
     "data": {
      "text/html": [
       "<div>\n",
       "<style scoped>\n",
       "    .dataframe tbody tr th:only-of-type {\n",
       "        vertical-align: middle;\n",
       "    }\n",
       "\n",
       "    .dataframe tbody tr th {\n",
       "        vertical-align: top;\n",
       "    }\n",
       "\n",
       "    .dataframe thead th {\n",
       "        text-align: right;\n",
       "    }\n",
       "</style>\n",
       "<table border=\"1\" class=\"dataframe\">\n",
       "  <thead>\n",
       "    <tr style=\"text-align: right;\">\n",
       "      <th></th>\n",
       "      <th>word</th>\n",
       "      <th>score</th>\n",
       "    </tr>\n",
       "  </thead>\n",
       "  <tbody>\n",
       "    <tr>\n",
       "      <th>0</th>\n",
       "      <td>a+</td>\n",
       "      <td>1</td>\n",
       "    </tr>\n",
       "    <tr>\n",
       "      <th>1</th>\n",
       "      <td>abound</td>\n",
       "      <td>1</td>\n",
       "    </tr>\n",
       "    <tr>\n",
       "      <th>2</th>\n",
       "      <td>abounds</td>\n",
       "      <td>1</td>\n",
       "    </tr>\n",
       "    <tr>\n",
       "      <th>3</th>\n",
       "      <td>abundance</td>\n",
       "      <td>1</td>\n",
       "    </tr>\n",
       "    <tr>\n",
       "      <th>4</th>\n",
       "      <td>abundant</td>\n",
       "      <td>1</td>\n",
       "    </tr>\n",
       "  </tbody>\n",
       "</table>\n",
       "</div>"
      ],
      "text/plain": [
       "        word  score\n",
       "0         a+      1\n",
       "1     abound      1\n",
       "2    abounds      1\n",
       "3  abundance      1\n",
       "4   abundant      1"
      ]
     },
     "execution_count": 63,
     "metadata": {},
     "output_type": "execute_result"
    }
   ],
   "source": [
    "# Checking that the pandas Dataframe is set up how we want for sentiment_words_df\n",
    "sentiment_words_df.head()"
   ]
  },
  {
   "cell_type": "code",
   "execution_count": 64,
   "id": "4492d96d-7735-477e-8706-a156d89f9393",
   "metadata": {},
   "outputs": [
    {
     "data": {
      "text/html": [
       "<div>\n",
       "<style scoped>\n",
       "    .dataframe tbody tr th:only-of-type {\n",
       "        vertical-align: middle;\n",
       "    }\n",
       "\n",
       "    .dataframe tbody tr th {\n",
       "        vertical-align: top;\n",
       "    }\n",
       "\n",
       "    .dataframe thead th {\n",
       "        text-align: right;\n",
       "    }\n",
       "</style>\n",
       "<table border=\"1\" class=\"dataframe\">\n",
       "  <thead>\n",
       "    <tr style=\"text-align: right;\">\n",
       "      <th></th>\n",
       "      <th>word</th>\n",
       "      <th>sentiment</th>\n",
       "      <th>lexicon</th>\n",
       "      <th>score</th>\n",
       "    </tr>\n",
       "  </thead>\n",
       "  <tbody>\n",
       "    <tr>\n",
       "      <th>0</th>\n",
       "      <td>abandon</td>\n",
       "      <td>negative</td>\n",
       "      <td>nrc</td>\n",
       "      <td>-1</td>\n",
       "    </tr>\n",
       "    <tr>\n",
       "      <th>1</th>\n",
       "      <td>abandoned</td>\n",
       "      <td>negative</td>\n",
       "      <td>nrc</td>\n",
       "      <td>-1</td>\n",
       "    </tr>\n",
       "    <tr>\n",
       "      <th>2</th>\n",
       "      <td>abandonment</td>\n",
       "      <td>negative</td>\n",
       "      <td>nrc</td>\n",
       "      <td>-1</td>\n",
       "    </tr>\n",
       "    <tr>\n",
       "      <th>3</th>\n",
       "      <td>abba</td>\n",
       "      <td>positive</td>\n",
       "      <td>nrc</td>\n",
       "      <td>1</td>\n",
       "    </tr>\n",
       "    <tr>\n",
       "      <th>4</th>\n",
       "      <td>abduction</td>\n",
       "      <td>negative</td>\n",
       "      <td>nrc</td>\n",
       "      <td>-1</td>\n",
       "    </tr>\n",
       "  </tbody>\n",
       "</table>\n",
       "</div>"
      ],
      "text/plain": [
       "          word sentiment lexicon  score\n",
       "0      abandon  negative     nrc     -1\n",
       "1    abandoned  negative     nrc     -1\n",
       "2  abandonment  negative     nrc     -1\n",
       "3         abba  positive     nrc      1\n",
       "4    abduction  negative     nrc     -1"
      ]
     },
     "execution_count": 64,
     "metadata": {},
     "output_type": "execute_result"
    }
   ],
   "source": [
    "# Checking that the pandas Dataframe is set up how we want for tidytext_sentiments\n",
    "tidytext_sentiments.head()"
   ]
  },
  {
   "cell_type": "code",
   "execution_count": 65,
   "id": "bf952626-d627-435d-b1e3-a31068adb493",
   "metadata": {},
   "outputs": [
    {
     "data": {
      "text/html": [
       "<div>\n",
       "<style scoped>\n",
       "    .dataframe tbody tr th:only-of-type {\n",
       "        vertical-align: middle;\n",
       "    }\n",
       "\n",
       "    .dataframe tbody tr th {\n",
       "        vertical-align: top;\n",
       "    }\n",
       "\n",
       "    .dataframe thead th {\n",
       "        text-align: right;\n",
       "    }\n",
       "</style>\n",
       "<table border=\"1\" class=\"dataframe\">\n",
       "  <thead>\n",
       "    <tr style=\"text-align: right;\">\n",
       "      <th></th>\n",
       "      <th>word</th>\n",
       "      <th>score</th>\n",
       "    </tr>\n",
       "  </thead>\n",
       "  <tbody>\n",
       "    <tr>\n",
       "      <th>0</th>\n",
       "      <td>a+</td>\n",
       "      <td>1</td>\n",
       "    </tr>\n",
       "    <tr>\n",
       "      <th>1</th>\n",
       "      <td>abound</td>\n",
       "      <td>1</td>\n",
       "    </tr>\n",
       "    <tr>\n",
       "      <th>2</th>\n",
       "      <td>abounds</td>\n",
       "      <td>1</td>\n",
       "    </tr>\n",
       "    <tr>\n",
       "      <th>3</th>\n",
       "      <td>abundance</td>\n",
       "      <td>1</td>\n",
       "    </tr>\n",
       "    <tr>\n",
       "      <th>4</th>\n",
       "      <td>abundant</td>\n",
       "      <td>1</td>\n",
       "    </tr>\n",
       "  </tbody>\n",
       "</table>\n",
       "</div>"
      ],
      "text/plain": [
       "        word  score\n",
       "0         a+      1\n",
       "1     abound      1\n",
       "2    abounds      1\n",
       "3  abundance      1\n",
       "4   abundant      1"
      ]
     },
     "execution_count": 65,
     "metadata": {},
     "output_type": "execute_result"
    }
   ],
   "source": [
    "# Combining the two dataframes\n",
    "combined_sentiments_df = pd.concat([sentiment_words_df, tidytext_sentiments[['word', 'score']]])\n",
    "combined_sentiments_df.head()"
   ]
  },
  {
   "cell_type": "markdown",
   "id": "6a5f3b12",
   "metadata": {},
   "source": [
    "## Sentiment Analysis on Songs\n",
    "\n",
    "In this section, score the sentiment for all the songs for both artists in your data set. Score the sentiment by manually calculating the sentiment using the combined lexicons provided in this repository. \n",
    "\n",
    "After you have calculated these sentiments, answer the questions at the end of this section.\n"
   ]
  },
  {
   "cell_type": "code",
   "execution_count": 66,
   "id": "664f8d8f",
   "metadata": {},
   "outputs": [],
   "source": [
    "# Defining the function to calculate sentiment\n",
    "def calculate_sentiment_df(lyrics, sentiment_df):\n",
    "    # Tokenize the lyrics into words\n",
    "    words = lyrics.split()\n",
    "    # Initialize sentiment score\n",
    "    sentiment_score = 0\n",
    "    # Look up each word in the sentiment DataFrame and sum their scores\n",
    "    for word in words:\n",
    "        if word in sentiment_df['word'].values:\n",
    "            sentiment_score += sentiment_df.loc[sentiment_df['word'] == word, 'score'].sum()\n",
    "    return sentiment_score\n"
   ]
  },
  {
   "cell_type": "code",
   "execution_count": 67,
   "id": "ff7bf6d5-ab85-458c-8454-3a4e86691f26",
   "metadata": {},
   "outputs": [],
   "source": [
    "# Applying the sentiment calculation to each song\n",
    "sentiment_results = defaultdict(dict)\n",
    "\n",
    "for artist in lyrics_data:\n",
    "    for song, lyrics in lyrics_data[artist].items():\n",
    "        sentiment_score = calculate_sentiment_df(lyrics, combined_sentiments_df)\n",
    "        sentiment_results[artist][song] = sentiment_score\n"
   ]
  },
  {
   "cell_type": "code",
   "execution_count": 68,
   "id": "1481f11f-5beb-4d3b-a206-10926168d358",
   "metadata": {},
   "outputs": [
    {
     "name": "stdout",
     "output_type": "stream",
     "text": [
      "Artist: joni, Average Sentiment Score: 1.84\n",
      "Artist: kanye, Average Sentiment Score: 13.4\n"
     ]
    }
   ],
   "source": [
    "# Calculating sentiment score per artist\n",
    "\n",
    "average_sentiment_per_artist = {}\n",
    "\n",
    "for artist, songs in sentiment_results.items():\n",
    "    average_score = sum(songs.values()) / len(songs) if songs else 0\n",
    "    average_sentiment_per_artist[artist] = average_score\n",
    "\n",
    "# Display the average sentiment score per artist\n",
    "for artist, avg_score in average_sentiment_per_artist.items():\n",
    "    print(f\"Artist: {artist}, Average Sentiment Score: {avg_score}\")\n"
   ]
  },
  {
   "cell_type": "markdown",
   "id": "1f8334f4",
   "metadata": {},
   "source": [
    "### Questions\n",
    "\n",
    "Q: Overall, which artist has the higher average sentiment per song? \n",
    "\n",
    "A: The artist with the higher sentiment per song is Kanye West, by a mile. This means Kanye's songs, on average, have a higher positive sentiment. Nonetheless, Joni still has a slightly positive sentiment in her songs. The score can be less than zero, and I would imagine artists such as Korn or Slipknot would be in the negative, given that their songs are generally very negative in their lyrical content. It does crack me up that Kanye's is so high, at least compared to Joni. It is also a little surprising, as I can think of many Kanye songs that are negative in their lyrical content. "
   ]
  },
  {
   "cell_type": "markdown",
   "id": "4fd19323-ebd0-415c-877b-ddbc4566881f",
   "metadata": {},
   "source": [
    "Q: For your first artist, what are the three songs that have the highest and lowest sentiments? Print the lyrics of those songs to the screen. What do you think is driving the sentiment score? \n",
    "\n",
    "A: Results below, starting with Kanye West. The results are close to what I was thinking, actually. The song selection is from the first 25 songs of Kanye West's catalogue, which is primarily the album \"College Dropout.\" This is a socially conscious album, before Kanye was as experimental in his music as he became in the 2010s. The driver of the negative sentiment are \"All Falls Down\" and \"Jesus Walks.\" I specifically had \"Jesus Walks\" and also \"We Don't Care\" as songs that would likely show up in the negative sentiment, though \"We Don't Care\" did not crack the top 3. \"Jesus Walks\" is a song critical of modern society and uses dramatic language from the bible to talk about the world as it was in 2004 (the fear of Terrorism being predominant). \"All Falls Down\" is also one of my favorites, and talks about the problems with consumer culture in America. \"Slow Jamz\" is the top highest sentiment song, and is very much an R&B song featuring none other than Jamie Foxx. It is a song featuring romance and is a \"feel good\" pleasant song to listen to. "
   ]
  },
  {
   "cell_type": "code",
   "execution_count": 69,
   "id": "961fb677-6e23-4c0a-b395-aaaddede312c",
   "metadata": {},
   "outputs": [],
   "source": [
    "# First, need to sort the songs by sentiment score for Kanye\n",
    "artist_songs = sentiment_results['kanye']\n",
    "\n",
    "# Sort the songs by sentiment score in descending order and then in ascending order \n",
    "highest_songs = sorted(artist_songs.items(), key=lambda x: x[1], reverse=True)[:3]\n",
    "lowest_songs = sorted(artist_songs.items(), key=lambda x: x[1])[:3]"
   ]
  },
  {
   "cell_type": "code",
   "execution_count": 70,
   "id": "580b4fb2-ed17-4ce7-9187-b33a35e2962f",
   "metadata": {},
   "outputs": [
    {
     "name": "stdout",
     "output_type": "stream",
     "text": [
      "Songs with Highest Sentiments:\n",
      "\n",
      "Song: kanyewest_slowjamz\n",
      "Lyrics:\n",
      "\"Slow Jamz\"\n",
      "\n",
      "[Jamie Foxx:]Kanye, it's Foxx, manI'm just sayin' I was talkin' to the girls you knowAnd we don't put enough emphasis on the ladies sometimeYou know, I was talkin' to this girlShe was talkin' about the music all fast in the club you knowShe gotta drink water 'cause she thirstyShe danced like 92 hundred songs back to backWith ain't nobody really try to find out what she feelin'Like how she feel... you know what she told me?(Are you gonna be?) Check it out, this is what she said(Say that you're gonna be) Ooh, ooh, ooh, ooh, oooh[Luther Vandross:]Are you gonna be?Say that you're gonna be[Jamie Foxx:]Oh oh oh oh oh[Jamie Foxx:]She said she want some Marvin Gaye, some Luther Vandross, a little Anita, will definitely set this party off right(Are you gonna be, are you gonna be, are you gonna be, are you gonna be, are you gonna be? Well well well well well)She said she want some Ready for the World, some New Edition, some Minnie Riperton will definitely set this party off right(Are you gonna be, are you gonna be, are you gonna be, are you gonna be, are you gonna be? Well well well well well)[Kanye West:]It definitely will!You know what I told her?[Kanye West:]I told her to drive over in your new whipBring some friends you cool withI'm gonna bring the cool whipThen I want you to stripSee you is my new chickSo we get our grind onShe be grabbing, calling me Biggie like Shyne homeMan, I swear she fine homesWhy she always lying thoughTelling me them diamonds when she know they rhinestonesShe got a light skinned friend look like Michael JacksonGot a dark skinned friend look like Michael JacksonI played 'Ready for the World' - she was ready for some actionMy dog said you ain't no freak, so you're 'bout to prove my man wrongI'm a play this VandrossYou're gonna take your pants offI'm gonna play this Gladys KnightMe and you're gonna get rightShe said she want some Marvin Gaye, some Luther VandrossA little Anita will definitely set this party off right(Are you gonna be, are you gonna be, are you gonna beAre you gonna be, are you gonna be, well well well well)She said she want some Ready for the World, some New EditionSome Minnie Riperton will definitely set this party off right(Are you gonna be, are you gonna be, are you gonna beAre you gonna be, are you gonna be, well well well well)[Jamie Foxx:]Smokey Robinson, Smokey RobinsonFreddie Jackson, everything, everything (Well well well well)Smokey Robinson, Ashford & Simpson (Are you gonna be)Set the party, really set the party off rightYes it will, yes it will (Well well well well)Al Green, oh! Al Green, ohh yeah!Oooh!Whatcha know about the Isley Brothers?[Aisha Tyler & Kanye West:]Now Kanye, I know I told you to slow it down, babyIt's good, it's all good, it's beautifulBut now I need you to do it faster babyCan you please? Do it faster, baby, do it faster!Damn, baby; I can't do it that fast... but I know somebody who can, Twista![Twista:]Got you looking at the glist on my hands and wristWhile I'm laying back smoking on my cannabisWhen it come to rocking the rhythm like Marvin and LutherI can tell you ain't no messing with Kan-man and TwistFrom the Chi and I beSipping HennessyPlay some R&BWhile I smoke a Byou can preferably find that I'm a G?And all this (well well well well well)Come with me and sip on some Evelyn ChampagneYou ain't know Twista work it like the WhispersHit the stop light, move it to some IsleysThe rims still moving so I bump a little SpinnersWhile I'm smoking on a BDipping through the streetsBumping R&BAnd I got the heat on the 23s?And I do it (well well well well well)With my Earth and the Wind smoke a FireLet me get your sheets wet listening to Keith SweatPut you in a daze with MazeFulfilling our every temptation slow jamming having deep sexYou ready for the world girlCome on go with me I touch you all over your body baby don't say no to meAnd every moment you controllin' me I'm loving the way you be holding me when I be listening to JodeciAnd when I come over and bend your assYou be bumping Teddy PendergrassI'd hit it from the back to the melody and rode it slowNow I gotta go up in it fast, but I'm 'a finish lastNo matter how much of a thug you seeI still spit it like it's R&B, come to the club with meAnd when some Luther come on I hope you feeling me and still will be in love with meChi ride[Jamie Foxx:]She said she want some Marvin Gaye, some Luther Vandross, a little Anita, will definitely set this party off right(Are you gonna be, are you gonna be, are you gonna be, are you gonna be, are you gonna be? Well well well well well)She said she want some Ready for the World, some New Edition, some Minnie Riperton will definitely set this party off right(Are you gonna be, are you gonna be, are you gonna be, are you gonna be, are you gonna be? Well well well well well)[Jamie Foxx & Tracie Spencer][Jamie Foxx):]She said she want some Marvin Gaye, some Luther Vandross, a little Anita, will definitely set this party off right(Are you gonna be, are you gonna be, are you gonna be, are you gonna be, are you gonna be? Well well well well well)She said she want some Ready for the World, some New Edition, some Minnie Riperton will definitely set this party off right(Are you gonna be, are you gonna be, are you gonna be, are you gonna be, are you gonna be? Well well well well well)\n",
      "\n",
      "Song: kanyewest_lastcall\n",
      "Lyrics:\n",
      "\"Last Call\"\n",
      "\n",
      "[JAY-Z:]Aight, let's run it, let's run itYo fuck you, Kanye, first and foremostFor making me do this shit. Muh'fuckerHad to throw everybody out the motherfucking roomCause they don't fucking[Kanye West:]I'd like to propose a toastI said toast motherfucker![Kanye West:]And I am(Here's to the Roc)And they ask me, they ask me, they ask me, I tell them(Here's to Roc-A-Fella)Raise your glasses, your glasses, your glasses to the sky and(Here's to the Roc)This is the last call for alcohol, for the(Mr. Rockefeller)So get your ass up off the wall[Kanye West:]The all around the world Digital Underground PacThe Rudolph the red-nosed reindeer of the RocI take my chain, my 15 seconds of fameAnd come back next year with the whole fucking gameAin't nobody expect Kanye to end up on topThey expected that College Dropout to drop and then flopThen maybe he stop savin' all the good beats for himselfRoc-A-Fella's only niggas that helpedMy money was thinner than Sean Paul's goatee hairNow Jean Paul Gaultier cologne fill the air, hereThey say he bougie, he big-headedWould you please stop talking about how my dick head isFlow infectious, give me 10 secondsI'll have a buzz bigger than insects in TexasIt's funny how wasn't nobody interested'Til the night I almost killed myself in Lexus[Kanye West:]Now I am(Here's to the Roc)And they ask me, they ask me, they ask me, I tell them(Here's to Roc-A-Fella)Raise your glasses, your glasses, your glasses to the sky and(Here's to the Roc)This is the last call for alcohol, for the(Mr. Rockefeller)So get your ass up off the wall[Kanye West:]Now was Kanye the most overlooked? Yes sirNow is Kanye the most overbooked? Yes sirThough the fans want the feeling of A Tribe Called QuestBut all they got left is this guy called WestThat'll take Freeway, throw him on tracks with Mos DefCall him Kwa-li or Kwe-li, I put him on songs with JAY-ZI'm the Gap like Banana Republic and Old Navy, and ooohIt come out sweeter than old SadieNice as Bun-B when I met him at the Source awardsGirl he had with him - ass coulda won the horse awardsAnd I was almost famous, now everybody love KanyeI'm almost RaymondSome say he arrogant, can y'all blame him?It was straight embarrassing how y'all played himLast year shoppin' my demo, I was tryin' to shineEvery motherfucker told me that I couldn't rhymeNow I could let these dream killers kill my self-esteemOr use my arrogance as the steam to power my dreamsI use it as my gas, so they say that I'm gassedBut without it I'd be last, so I ought to laughSo I don't listen to the suits behind the desk no moreYou niggas wear suits cause you can't dress no moreYou can't say shit to Kanye West no moreI rocked 20,000 people, I was just on tour, niggaI'm Kon, the Louis Vuitton DonBought my mom a purse, now she Louis Vuitton MomI ain't play the hand I was dealt, I changed my cardsI prayed to the skies and I changed my starsI went to the malls and I balled too hard\"Oh my god, is that a black card?\"I turned around and replied, \"Why yesBut I prefer the term African American Express\"Brains, power, and muscle, like Dame, Puffy, and RussellYour boy back on his hustle, you know what I've been up toKillin y'all niggas on that lyrical shitMayonnaise-colored Benz, I push Miracle Whips[Kanye West:]And I am(Here's to the Roc)And they ask me, they ask me, they ask me, I tell them(Here's to Roc-A-Fella)Raise your glasses, your glasses, your glasses to the sky and(Here's to the Roc)This is the last call for alcohol, for my niggas(Mr. Rockefeller)So get your ass up off the wallSo this A&R over at Roc-A-Fella, named Hiphop Picked the \"Truth\" beat for Beanie. And I was in the session with him. I had my demo with me. You know, like I always do. I play the songs, he's like \"Who that spittin'?\" I'm like \"It's me.\" He's like \"Oh, well okay.\"Uhh, he started talkin' to me on the phone, going back and forthJust askin' me to send him beats, and I'm thinking he's trying to get into managing producers, cause he had this other kid named Just Blaze he was messin' withSo won't you raise your glass won't youSo won't you raise your glass won't youSo won't you raise your glass won't youSo won't you raise your glass won't youAnd um, he was friends with my mentor, No ID. And No ID told him, \"Look, man, you wanna mess with Kanye you need to tell him that you like the way he rap\"[No ID:]\"Yo, you wanna sign him, tell him you like how he rap\"I was all, I dunno if he was gassin' me or not but he's like he wanna manage me as a rapper AND a producer[Hiphop:]\"I'll sign you as a producer and a rapper\"I'm like oh shit. I was messin' with, uh, D-Dot also. People were like this, started talking about the ghost production but that's how I got in the game. If it wasn't for that, I wouldn't be here. So you know, after they picked that \"Truth\" beat I was figuring I was gonna do some more work but shit just wasn't poppin' off like that. I was stayin' in Chicago, I had my own apartment, I be doin' like, just beats for local acts just to try to keep the lights on, and then to go out and buy, get a Pelle Pelle off lay-away, get some Jordans or something or get a TechnoMarine, that's what we wore back thenI made this one beat where I sped up this Harold Melvin sample I played it for Hip over the phone, he's like, \"Oh, yo that shit is crazy Jay might want it for this compilation album he doin', called The Dynasty. And at that time, like the drums really weren't soundin' right to me So I went and um, I was listening to Dre Chronic 2001 at that time. And really I just, like bit the drums off \"Xxplosive\" and put it like with a sped-up sample, and now it's kind of like my whole style, when it started, when he rapped on \"This Can't Be Life.\"And that was like, really the first beat of that kind that was on The Dynasty album. I could say that was the the resurgence of the soul sound You know, I got to come in and track the beat and at the time I was still with my other management. I really wanted to roll with Hiphop cause I, I just needed some fresh air, you know what I'm sayin' cause I been there for a while. I appreciated what they did for me but, you know there's a time in every man's life where he gotta make a change. Try to move up to the next level. And that day I came and I tracked the beat and I got to meet JAY-Z and he said, \"Oh you a real soulful dude.\"[JAY-Z:]\"Oh you a real soulful dude, man\"And he, uh, played the song cause he already spit his verse by the time I got to the studio. You know how he do it, one take. And he said[JAY-Z:]\"Check this out, tell me what you think of this, right here\"\"Tell me what you think of this.\" And I heard it, and I was thinking like, man, I really wanted more like of the simple type JAY-Z. I ain't want like the, the more introspective, complicated rhy- or the... in my personal opinion. So he asked me, \"What you think of it?\"[JAY-Z:]\"So what you think of this?\"And I was like, \"Man that shit tight,\" you know what I'm sayin', man what I'ma tell him? I was on the train, man, you know. So after that, I went back home. And man I'm, I'm just in Chicago, I'm trying to do my thing. You know, I got groups. I got acts I'm trying to get on, and like there wasn't nothin' really like poppin' off the way it should have been. One of my homies that was one of my artists, he got signed. But it was supposed to really go through my production company, but he ended up going straight with the company. So, like I'm just straight holdin' the phone, gettin' the bad news that dude was tryin' to leave my company. And I got evicted at the same time. So I went down and tracked the beats from him, I took that money, came back, packed all my shit up in a U-Haul, maybe about ten days before I had to actually get out so I ain't have to deal with the landlord cause he's a jerk. Me and my mother drove to[Mother:]\"Come on, let's just go\"...Newark, New Jersey. I hadn't even seen my apartment. I remember I pulled up[Mother:]\"Kanye, baby, we're here\"...I unpacked all my shit. You know, we went to Ikea, I bought a bed, I put the bed together myself. I loaded up all my equipment, and the first beat I made was, uh, \"Heart of the City.\" And Beans was still working on his album at that time, so I came up there to Baseline, it was Beans' birthday, matter of fact, and I played like seven beats. And, you know I guess he was in the zone, he already had the beats that he wanted, I had did \"Nothing Like It\" already at that time but then Jay walked in. I remember he had a Gucci bucket hat on. I remember it like, like it was yesterday. And Hiphop said, \"Yo play that one beat for him.\" And I played \"Heart of the City.\" And really I made \"Heart of the City,\" I really wanted to give that beat to DMX[Hiphop:]\"No I think Jay gon' like this one right here\"And I played another beat, and I played another beat. And I remember that Gucci bucket, he took it and like put it over his face and made one of them faces like 'OOOOOOOOOOH.' Two days later I'm in Baseline and I seen Dame. Dame didn't know who I was and I was like, \"Yo what's up I'm Kanye.\"[Dame:]\"Yo, you that kid, Kanye?\"\"You that kid that gave all them beats to Jay? Yo, this nigga got classics to your beats\"[Dame:]\"Jay got classics, G.\"You know I ain't talkin' shit. I'm like \"oh shit.\" And all this time I'm starstruck, man. I'm still thinking 'bout, you know I'm picturing these niggas on the show, The Streets is Watching, I'm lookin', these were superstars in my eyes. And they still are, you know. So, Jay came in and he spit all these songs like in one day, and in two days... I gotta bring up one thing, you know, come back to the story, the day I did the 'Can't be Life' beat on track, I remember Lenny S, he had some Louis Vuitton sneakers on, he think he fly. And Hiphop was there, I think Ty-Ty, John Meneilly, a bunch of people. I didn't know all these people at the time they was in the room, and I said, \"yo Jay I could rap.\" And I spit this rap that said, uh \"I'm killin' y'all niggas on that lyrical shit. Mayonnaise colored Benz, I push miracle whips.\" And I saw his eyes light up when I said that line. But you know the rest, the rap was like real wack and shit, so that's all the response. He said, \"Man that was tight.\"[JAY-Z:]\"That, that was cool. That was hot.\"That was it. You know, I ain't get no deal then, hehe. Okay, fast forward. So, Blueprint, \"H to the Izzo,\" my first hit single. And I just took that proudly, built relationships with people. My relationship with Kweli I think was one of the best ones to ever happen to my career as a rapper. Because, you know, of course, later he allowed me to go on tour with him. Man, I appre-- I love him for that. And at this time, you know I didn't have a deal, I had songs, and I had relationships with all these A&R's, and they wanted beats from me, so they'd call me up, I'd play them some beats. \"Gimme a beat that sound like JAY-Z.\" You know, they dick riders. Whatever. So I'll play them these post-Blueprint beats or whatever and then I'll play my shit. I'll be like, \"Yo but I rap too.\" Hey, I guess they was lookin' at me crazy cause you know, cause I ain't have a jersey on or whatever. Everybody out there listen here: I played them 'Jesus Walks' and they didn't sign me. You know what happened, it was some A&R's that fucked with me though, but then like the heads, it'd be somebody at the company that'll say, \"Naw.\" Like, Dave Lighty fucked with me, my nigga Mel brought me to a bunch of labels. Jessica Rivera, man[Jessica:]\"Man, you niggas is stupid if y'all don't sign Kanye, for real.\"I'm not gonna say nothin' to mess my promotion up\"Y'all niggas is stupid\"Let's just say I didn't get my deal. The nigga that was behind me, I mean, he wasn't even a nigga, you know? The person who actually kicked everything off was Joe 3H from Capitol Records. He wanted to sign me really bad[Joe:]\"We gonna change the game, buddy.\"Dame was like, \"Yo you got a deal with Capitol? Okay man, just make sure it's not wack.\"[Dame:]\"You gotta make sure it's not wack.\"Then one day I just went ahead and played it, I wanted to play some songs, cause you know Cam was in the room, Young Guru, and Dame was in the room. So I played... actually it's a song that you'll never hear, but maybe I might use it. So, it's called 'Wow.'\"I go to Jacob with 25 thou, you go with 25 hundred, wowI got 11 plaques on my walls right nowYou got your first gold single, damn, nigga, wow.\"Like the chorus went. Don't bite that chorus, I might still use it. So I play that song for him and he's like \"oh shit\"[Dame:]\"Oh shit it's not even wack.\"\"I ain't gonna front, it's kinda hot.\"[Dame:]\"It's actually kinda hot.\"Like they still weren't looking at me like a rapper. And I'm sure Dame figured, 'Like man. If he do a whole album, if his raps is wack at least we can throw Cam on every song and save the album, you know. So uh Dame took me into the office, and he's like \"yo man, B, B, you don't want a brick, you don't want a brick\"[Dame:]\"You don't wanna catch a brick\"\"You gotta be under an umbrella, you'll get rained on.\" I told Hiphop and Hiphop was all, \"Oh, word?\" Actually, even with that, I was still about to take the deal with Capitol cause it was already on the table and cause of my relationship with 3H. That, you know, cause I told him I was gonna do it, and I'm a man of my word, I was gonna roll with what I said I was gonna do. Then, you know, I'm not gonna name no names, but people told me, \"oh he's just a producer-rapper,\" and told 3H that told the heads of the Capitol, and right-- the day I'm talking about, I planned out everything I was gonna do. Man, I had picked out clothes, I already started booking studio sessions, I started arranging my album, thinking of marketing schemes, man I was ready to go. And they had Mel call me, they said, \"yo... Capitol pulled on the deal\"[Mel:]\"Yo, Capitol pulled out on the deal.\"And, you know I told them that Roc-A-Fella was interested and I don't know if they thought that was just something I was saying to gas them up to try to push the price up or whatever. I went up... I called G, I said, \"man, you think we could still get that deal with Roc-A-Fella?\"So won't you raise your glass, won't youSo won't you raise your glass, won't youSo won't you raise your glass, won't youSo won't you raise your glass, won't you\n",
      "\n",
      "Song: kanyewest_familybusiness\n",
      "Lyrics:\n",
      "\"Family Business\"\n",
      "\n",
      "How's your son? (all the things)He made the team this year? (all, all, all the things things)Aight, they said he wasn't tall enough(...all all that glitters is not goldAnd all gold is not realityReal is what you lays on me)Ma we here we gon' cook this Sunday OK?That's a new girlfriend?This is family businessAnd this is for the family that can't be with usAnd this is for my cousin locked down, know the answer's in usThis why I spit it in my songs so sweet like a photoOf your granny's picture, now that you're gone, it hit usSuper hard on Thanksgiving and Christmas, this can't be rightYeah, you heard the track I did man, \"This Can't Be Life\"Somebody please say grace so I can save faceAnd have a reason to cover my faceI even made you a plate, soul food, know how Granny do itMonkey bread on the side, know how the family do itWhen I brought it why the guard have to look all through it?As kids, we used to laughWho knew that life would move this fast?Who knew I'd have to look at you through a glass?And look, you tell me you ain't did it then you ain't did itAnd if you did, then that's family businessAnd I don't care 'bout(All the diamond rings all the diamond rings)They don't mean a thing (all, all, all the things)All these fancy thingsI tell you that all is my weight and gold(All that glitters is not gold, now gold is not reality)Now all I know I know all these things(Real is what you lease on me)This is family businessAnd this is for everybody standing with usCome on, let's take a family Grammy pictureAbi, remember when they ain't believe in me?Now she like \"See, that's my cousin on TV!\"Now, we gettin' it and we gon' make itAnd they gon' hate it and I'm his favoriteI can't deny it, I'm a straight riderBut when we get together be electric slidin'Grandma, get 'em shook upAw naw, don't open the photo book upI got an Aunt Ruth that can't remember your nameBut I bet them Polaroids'll send her down memory laneYou know that one auntie, you don't mean to be rudeBut every holiday nobody eating her foodAnd you don't wanna stay there cause them your worst cousinsGot roaches at their crib like them your first cousinsAct like you ain't took a bath with your cousinsFit 3 in the bed if it's 6 of y'allI'm talkin' 'bout three by the head and three by the legBut you ain't have to tell my girl I used to pee in the bedRain, rain, rain go awayLet the sun come out and all the children sayRain, rain, rain go awayLet the sun come out and all the children sayI woke up early this morning with a new state of mindA creative way to rhyme without using knives and gunsKeep your nose out the sky, keep your heart to GodAnd keep your face to the risin' sunAll my niggas from the Chi, that's my family, dogAnd my niggas ain't my guys, they my family, dogI feel like one day you'll understand me, dogYou can still love your man and be manly, dogYou ain't got to get heated at every house warmin'Sittin' here, grillin' people like George ForemanWhy Uncle Ray and Aunt Shiela always performin'?The second she storm out then he storm inY'all gon' sit down, have a good time this reunionAnd drink some wine like CommunionAnd act like everything fine and if it isn'tWe ain't letting everybody in our family business, uh(All all all the diamond rings diamond rings)They don't mean a thing (all, all, all the things)They don't mean a thing (all, all, all the things)(All all that glitters is not gold, now gold is not reality)They don't mean a thing a thing(All, all, all the things)They don't mean a thing a thing a thingI don't care what they don't mean a thing(All, all, all the things) all these fancy thingsI tell you that all is my weight and goldAll I know, I know all these thingsAll these things, all these thingsAll these things, all these thingsCLK Mercedes BenzAll these things, all these thingsAll these things, all these thingsAll these things, all these thingsA whole lotta moneyAll these things, all these thingsAll these things, all these thingsAll these things, all these thingsMommy and Daddy, will you please stop fighting?All these things, all these thingsAll these things, (and I don't care why) all these thingsAll these things, all these thingsAll these things, all these thingsLet's get Stevie outta jail\n",
      "\n",
      "Songs with Lowest Sentiments:\n",
      "\n",
      "Song: kanyewest_allfallsdown\n",
      "Lyrics:\n",
      "\"All Falls Down\"\n",
      "\n",
      "[Syleena Johnson and Kanye West:]Oh, when it all, it all falls downYeah, this the real one, babyI'm tellin' you all, it all falls downUh, Chi-Town, stand up!Oh, when it all, it all falls downSouthside, SouthsideWe gon' set this party off rightI'm tellin' you all, it all falls downWestside, WestsideWe gon' set this party off rightOh, when it all[Kanye West:]Man, I promise, she's so self-consciousShe has no idea what she doin' in collegeThat major that she majored in don't make no moneyBut she won't drop out, her parents'll look at her funnyNow, tell me that ain't insecureThe concept of school seems so secureSophomore, three years, ain't picked a carrierShe like, \"Fuck it, I'll just stay down here and do hair.\"'Cause that's enough money to buy her a few pairsOf new Airs, 'cause her baby daddy don't really careShe's so precious with the peer pressureCouldn't afford a car, so she named her daughter AlexisShe had hair so long that it looked like weaveThen she cut it all off, now she look like EveAnd she be dealin' with some issues that you can't believeSingle black female addicted to retail, and well[Syleena Johnson and Kanye West:]Oh, when it all, it all falls downAnd when it falls down, who you gon' call now?I'm tellin' you all, it all falls downC'mon, c'mon, and when it falls downOh, when it all[Kanye West:]Man, I promise, I'm so self-consciousThat's why you always see me with at least one of my watchesRollie's and Pasha's done drove me crazyI can't even pronounce nothin', pass that Ver-say-see!Then I spent four hundred bucks on thisJust to be like, \"Nigga, you ain't up on this.\"And I can't even go to the grocery storeWithout some Ones that's clean and a shirt with a teamIt seem we livin' the American DreamBut the people highest up got the lowest self-esteemThe prettiest people do the ugliest thingsFor the road to riches and diamond ringsWe shine because they hate us, floss 'cause they degrade usWe tryna buy back our 40 acresAnd for that paper, look how low we'll stoopEven if you in a Benz, you still a nigga in a coupe[Syleena Johnson and Kanye West:]Oh, when it all, it all falls downCome on, come onI'm tellin' you all, it all falls downAnd when it falls down, who you gon' call now?Oh, when it all, it all falls downCome on, come onI'm tellin' you all, it all falls downAnd when it all falls down[Kanye West:]I say, \"Fuck the police,\" that's how I treat 'emWe buy our way out of jail, but we can't buy freedomWe'll buy a lot of clothes, but we don't really need 'emThings we buy to cover up what's inside'Cause they made us hate ourself and love they wealthThat's why shorty's hollerin', \"Where the ballers at?\"Drug dealer buy Jordan, crackhead buy crackAnd the white man get paid off of all of thatBut I ain't even gon' act holier than thou'Cause fuck it, I went to Jacob with 25 thouBefore I had a house and I'd do it again'Cause I wanna be on 106 and Park, pushin' a BenzI want to act ballerific like it's all terrificI got a couple past-due bills, I won't get specificI got a problem with spendin' before I get itWe all self-conscious, I'm just the first to admit it[Syleena Johnson and Kanye West:]Oh, when it all, it all falls downC'mon, c'monAnd when it falls down, who you gon' call now?I'm tellin' you all, it all falls downC'mon c'mon, and when it falls downOh, when it all, it all falls downSouthside, SouthsideWe gon' set this party off rightI'm tellin' you all, it all falls downWestside, WestsideWe gon' set this party off rightOh when it all, it all falls downChi-Town, Chi-TownWe gon' show 'em how we get downI'm tellin' you all, it all falls downNow, Syleena, you just like a safe belt, you saved my lifeC'monOh when it all, it all falls downI'm tellin' you all, it all falls down\n",
      "\n",
      "Song: kanyewest_jesuswalks\n",
      "Lyrics:\n",
      "\"Jesus Walks\"\n",
      "\n",
      "We at warWe at war with terrorism, racismBut most of all we at war with ourselves(Jesus walk)God show me the way because the Devil's tryna break me down(Jesus walk with me)You know what the Midwest is? Young and restlessWhere restless (Niggas) might snatch your necklaceAnd next these (Niggas) might jack your LexusSomebody tell these (Niggas) who Kanye West isI walk through the valley of the Chi where death isTop floor the view alone will leave you breathlessTry to catch it it's kinda hardGetting choked by detectives, yeah, yeah, now check the methodThey be askin' us questions, harass and arrest usSayin' \"We eat pieces of shit like you for breakfast\"Huh? Y'all eat pieces of shit? What's the basis?We ain't going nowhere but got suits and casesA trunk full of coke, rental car from AvisMy mama used to say only Jesus can save usWell mama I know I act a foolBut I'll be gone 'til November, I got packs to moveI hope(Jesus walk)God show me the way because the Devil's tryna break me down(Jesus walk with me)The only thing that I pray is that my feet don't fail me now(Jesus walk)And I don't think there's nothin' I can do now to right my wrongs(Jesus walk with me)I wanna talk to God but I'm afraid 'cause we ain't spoke in so long(Jesus walk)God show me the way because the Devil's tryna break me down(Jesus walk with me)The only thing that I pray is that my feet don't fail me now(Jesus walk)And I don't think there's nothin' I can do now to right my wrongs(Jesus walk with me)I wanna talk to God but I'm afraid 'cause we ain't spoke in so longSo long, so long(Jesus walk with me)To the hustlers, killers, murderers, drug dealers, even the scrippers(Jesus walks for them)To the victims of welfare feel we livin' in Hell here, hell yeah(Jesus walks for them)Now, hear ye, hear ye, want to see Thee more clearlyI know He hear me when my feet get weary'Cause we're the almost nearly extinctWe rappers is role models: we rap, we don't thinkI ain't here to argue about His facial featuresOr here to convert atheists into believersI'm just tryna say the way school need teachersThe way Kathie Lee needed Regis, that's the way I need JesusSo here go my single, dawg, radio needs thisThey say you can rap about anything except for JesusThat means guns, sex, lies, videotapeBut if I talk about God my record won't get played, huh?Well if this take away from my spinsWhich'll probably take away from my endsThen I hope this take away from my sinsAnd bring the day that I'm dreamin' aboutNext time I'm in the club, everybody screamin' out(Jesus walk)God show me the way because the Devil's tryna break me down(Jesus walk with me)The only thing that I pray is that my feet don't fail me now\n",
      "\n",
      "Song: kanyewest_twowords\n",
      "Lyrics:\n",
      "\"Two Words\"\n",
      "\n",
      "[Kanye West:]We in the streets, playa, get ya mailIt's only two places you end up, either dead or in jailStill nowhere to goStill nowhere to goNow throw ya hands up, hustlers, busters, boosters, hoesEverybody, fuck thatStill nowhere to goStill nowhere to go[Mos Def:]Two words, United States, no love, no breaksLow brow, high stakes, crack smoke, black folksBig Macs, fat folks, ecstasy capsulesPresidential scandals, everybody moveTwo words, Mos Def, K. West, hot shitCalm down, get back, ghetto people, got thisGame 'pon lock shit, gun 'pon cock shitWe won't stop shit, everybody moveTwo words, BK, NY, Bed StuyToo harsh, too hungry, too many, that's whyThese streets know game, can't ball, don't playHeavy traffic, one lane, everybody moveTwo words, Mos Def, Black Jack, hot shitCalm down, get back, ghetto people, got thisGame 'pon lock, gun 'pon cockWe won't stop, everybody move[Kanye West (Harlem Boys Choir):]Now throw ya hands up, hustlers, busters, boosters, hoes(Throw your hands up high) Everybody, fuck thatStill nowhere to goStill nowhere to goAnd keep ya hands up, hustlers, busters, boostersHoes ('Til they reach the sky), everybody, fuck thatStill nowhere to goStill nowhere to go[Kanye West:]Two words: Chi-Town, Southside, worldwide'Cause I rep that 'til I fuckin' dieOne neck, two chains, one waist, two gatsOne wall, twenty plaques, dues paid, gimme thatI am limelight, Blueprint, five micsGo-Getters rhyme, like, should've been signed twiceMost imitated, Grammy-nominatedHotel accommodated, cheerleader prom-datedBarbershop playa-hated, mom-and-pop bootlegged itFelt like it rained 'til the roof caved inTwo words: Chi-Town raised me, crazySo I live by two words: \"Fuck you, pay me\"Screaming, \"Jesus, save me!\"You know how the game be, I can't let 'em change me'Cause on judgment day, you gon' blame meLook, God, it's the same meAnd I basically know now, we get racially profiled'Cuffed up and hosed down, pimped up and ho'd downPlus, I got a whole city to hold downFrom the bottom, so the top's the only place to go now[Kanye West (Harlem Boys Choir):]Now throw ya hands up hustlers, busters, boosters, hoes(Throw your hands up high)Oh, everybody, fuck thatStill nowhere to goStill nowhere to go[Freeway:]Two words, Freeway, two letters, ARTurn y'all rap niggas to two words: fast runnersLike Jackie Joyner, you better sleep with your burnerThe heat skeet, blow a reef through your car, my GodTwo words: no guns, break armsBreak necks, break backs, Steven SeagalFree, young boss, freshman of the RocWith the beef in the pot Jay sent for his dogs to brawlForget your squad, better fend for yourselfHave you screamin' out four words, \"Send for the law?\" ughTwo words: Freeway, slightly retardedFuck around, throw a clip in your artist, leave with his broad[Mos Def (Harlem Boys Choir):]Red, white, blue, black (Throw your hands up)Calm down, move backMotherfuckers asking, \"Who is that?\"You know it's the almighty Black JackMos Def, K. WestGhetto people get this shit off ya chestNorth to the south, to the east, to the westBlack Jack Johnson, it's no contest(High) And show it to 'em like\n"
     ]
    }
   ],
   "source": [
    "# Print the lyrics of the songs\n",
    "print(\"Songs with Highest Sentiments:\")\n",
    "for song, _ in highest_songs:\n",
    "    print(f\"\\nSong: {song}\\nLyrics:\\n{lyrics_data['kanye'][song]}\")\n",
    "\n",
    "print(\"\\nSongs with Lowest Sentiments:\")\n",
    "for song, _ in lowest_songs:\n",
    "    print(f\"\\nSong: {song}\\nLyrics:\\n{lyrics_data['kanye'][song]}\")\n"
   ]
  },
  {
   "cell_type": "markdown",
   "id": "e046ce9b-43d7-4e48-b6b6-7a46e7303624",
   "metadata": {},
   "source": [
    "Q: For your second artist, what are the three songs that have the highest and lowest sentiments? Print the lyrics of those songs to the screen. What do you think is driving the sentiment score? \n",
    "\n",
    "A: Joni Mitchell writes in her best albums about melancholy things. She is sort of a melancholy person who, despite her great artistry, is known to be difficult to be around. She does occasionally write about positive things. The song \"Dawntreader\", as well as many of her early songs before she started to find her voice on the album \"Clouds\", were very much inspired by the peace-loving hippies of the 1960s. Her first album \"Song to a Seagull\" is basically a snoozer copy of 1960s soft rock inspired by LSD. There are words about \"love\", \"treasure\", and \"smiling.\" I am not as intimately familiar with the songs in the negative sentiment list, but I see that the top song is \"Nathan La Franeer.\" Words like \"never\", \"furrowed\", and \"burglar\" seem to drive the negative sentiment of this song. \n"
   ]
  },
  {
   "cell_type": "code",
   "execution_count": 71,
   "id": "1797472d-3845-41b8-885e-dd3ff3a46413",
   "metadata": {},
   "outputs": [],
   "source": [
    "# First, need to sort the songs by sentiment score for Joni\n",
    "artist_songs = sentiment_results['joni']\n",
    "\n",
    "# Sort the songs by sentiment score in descending order and then in ascending order \n",
    "highest_songs = sorted(artist_songs.items(), key=lambda x: x[1], reverse=True)[:3]\n",
    "lowest_songs = sorted(artist_songs.items(), key=lambda x: x[1])[:3]"
   ]
  },
  {
   "cell_type": "code",
   "execution_count": 72,
   "id": "43aa2bb3-5e9f-4715-9743-8e3b1200ee92",
   "metadata": {},
   "outputs": [
    {
     "name": "stdout",
     "output_type": "stream",
     "text": [
      "Songs with Highest Sentiments:\n",
      "\n",
      "Song: jonimitchell_thedawntreader\n",
      "Lyrics:\n",
      "\"The Dawntreader\"\n",
      "\n",
      "Peridots and periwinkle blue medallionsGilded galleons spilled across the ocean floorTreasure somewhere in the sea and he will find whereNever mind their questions there's no answer forThe roll of the harbor wakeThe songs that the rigging makesThe taste of the spray he takesAnd he learns to giveHe aches and he learns to liveHe stakes all his silverOn a promise to be freeMermaids live in coloniesAll his seadreams come to meCity satins left at home I will not need themI believe him when he tells of loving meSomething truthful in the sea your lies will find youLeave behind your streets he said and come to meCome down from the neon nightsCome down from the tourist sightsRun down till the rain delights youYou do not hideSunlight will renew your prideSkin white by skin goldenLike a promise to be freeDolphins playing in the seaAll his seadreams come to meSeabird I have seen you fly above the pilingsI am smiling at your circles in the airI will come and sit by you while he lies sleepingFold your fleet wings I have brought some dreams to shareA dream that you love someoneA dream that the wars are doneA dream that you tell no one but the grey seaThey'll say that you're crazyAnd a dream of a babyLike a promise to be freeChildren laughing out to seaAll his seadreams come to me\n",
      "\n",
      "Song: jonimitchell_forfree\n",
      "Lyrics:\n",
      "\"For Free\"\n",
      "\n",
      "I slept last night in a good hotelI went shopping today for jewelsThe wind rushed around in the dirty townAnd the children let out from the schoolsI was standing on a noisy cornerWaiting for the walking greenAcross the street he stoodAnd he played real goodOn his clarinet for freeNow me I play for fortunesAnd those velvet curtain callsI got a black limousine and two gentlemenEscorting me to the hallsAnd I play if you have the moneyOr if you're a friend to meBut the one man bandBy the quick lunch standHe was playing real good for freeNobody stopped to hear himThough he played so sweet and highThey knew he had never been on their TVSo they passed his music byI meant to go over and ask for a songMaybe put on a harmonyI heard his refrainAs the signal changedHe was playing real good for free\n",
      "\n",
      "Song: jonimitchell_tinangel\n",
      "Lyrics:\n",
      "\"Tin Angel\"\n",
      "\n",
      "Varnished weeds in window jarsTarnished beads on tapestriesKept in satin boxes areReflections of love's memoriesLetters from across the seasRoses dipped in sealing waxValentines and maple leavesTucked into a paperbackGuess I'll throw them all awayI found someone to love todayDark with darker moods is heNot a golden Prince who's comeThrough columbines and wizardryTo talk of castles in the sunStill I'll take a chance and seeI found someone to love todayThere's a sorrow in his eyesLike the angel made of tinWhat will happen if I tryTo place another heart in himIn a Bleecker Street cafeI found someone to love todayI found someone to love today\n",
      "\n",
      "Songs with Lowest Sentiments:\n",
      "\n",
      "Song: jonimitchell_nathanlafraneer\n",
      "Lyrics:\n",
      "\"Nathan La Franeer\"\n",
      "\n",
      "I hired a coach to take me from confusion to the planeAnd though we shared a common space I know I'll never meet againThe driver with his eyebrows furrowed in the rear-view mirrorI read his name and it was plainly written Nathan La FraneerI asked him would he hurryBut we crawled the canyons slowlyThru the buyers and the sellersThru the burglar bells and the wishing wellsWith gangs and girly showsThe ghostly garden growsThe cars and buses bustled thru the bedlam of the dayI looked thru window-glass at streets and Nathan grumbled at the greyI saw an aging cripple selling Superman balloonsThe city grated thru chrome-plateThe clock struck slowly half-past-noonThru the tunnel tiled and turningInto daylight once again I am escapingOnce again goodbyeTo symphonies and dirty treesWith parks and plastic clothesThe ghostly garden growsHe asked me for a dollar moreHe cursed me to my faceHe hated everyone who paid to rideAnd share his common spaceI picked my bags up from the curbAnd stumbled to the doorAnother man reached out his handAnother hand reached out for moreAnd I filled it full of silverAnd I left the fingers countingAnd the sky goes on foreverWithout meter maids and peace paradesYou feed it all your woesThe ghostly garden grows\n",
      "\n",
      "Song: jonimitchell_ithinkiunderstand\n",
      "Lyrics:\n",
      "\"I Think I Understand\"\n",
      "\n",
      "Daylight falls upon the path, the forest falls behindToday I am not prey to dark uncertaintyThe shadow trembles in its wrath, I've robbed its blackness blindAnd tasted sunlight as my fear came clear to meI think I understandFear is like a wilderlandStepping stones or sinking sandNow the way leads to the hills, above the steeple's chimeBelow me sleepy rooftops round the harborIt's there I'll take my thirsty fill of friendship over wineForgetting fear but never disregarding herOh, I think I understandFear is like a wilderlandStepping stones and sinking sandSometimes voices in the night will call me back againBack along the pathway of a troubled mindWhen forests rise to block the light that keeps a traveler saneI'll challenge them with flashes from a brighter timeOh, I think I understandFear is like a wilderlandStepping stones or sinking sand\n",
      "\n",
      "Song: jonimitchell_cactustree\n",
      "Lyrics:\n",
      "\"Cactus Tree\"\n",
      "\n",
      "There's a man who's been out sailingIn a decade full of dreamsAnd he takes her to a schoonerAnd he treats her like a queenBearing beads from CaliforniaWith their amber stones and greenHe has called her from the harborHe has kissed her with his freedomHe has heard her off to starboardIn the breaking and the breathingOf the water weedsWhile she was busy being freeThere's a man who's climbed a mountainAnd he's calling out her nameAnd he hopes her heart can hearThree thousand miles he calls againHe can think her there beside himHe can miss her just the sameHe has missed her in the forestWhile he showed her all the flowersAnd the branches sang the chorusAs he climbed the scaly towersOf a forest treeWhile she was somewhere being freeThere's a man who's sent a letter and he's waiting for replyHe has asked her of her travels since the day they said goodbyeHe writes, \"Wish you were beside me, we can make it if we try.\"He has seen her at the officeWith her name on all these papersThrough the sharing of the profitsHe will find it hard to shake herFrom his memoryAnd she's so busy being freeThere's a lady, in the cityAnd she thinks she loves them allThere's the one who's thinking of herThere's the one who sometimes callsThere's the one who writes her lettersWith his facts and figures scrawlShe has brought them to her sensesThey have laughed inside her laughterNow she rallies her defensesFor she fears that one will ask herFor eternityAnd she's so busy being freeThere's a man who sends her medalsHe is bleeding from the warThere's a jouster and a jesterAnd a man who owns a storeThere's a drummer, and a dreamerAnd you know there may be moreShe will love them when she sees themThey will lose her if they followAnd she only means to please themAnd her heart is full and hollowLike a cactus treeWhile she's so busy being freeLike a cactus treeBeing free\n"
     ]
    }
   ],
   "source": [
    "# Print the lyrics of the songs\n",
    "print(\"Songs with Highest Sentiments:\")\n",
    "for song, _ in highest_songs:\n",
    "    print(f\"\\nSong: {song}\\nLyrics:\\n{lyrics_data['joni'][song]}\")\n",
    "\n",
    "print(\"\\nSongs with Lowest Sentiments:\")\n",
    "for song, _ in lowest_songs:\n",
    "    print(f\"\\nSong: {song}\\nLyrics:\\n{lyrics_data['joni'][song]}\")"
   ]
  },
  {
   "cell_type": "markdown",
   "id": "b4a93987-6a6f-461b-b9fa-d07ccd0b9ed4",
   "metadata": {},
   "source": [
    "Q: Plot the distributions of the sentiment scores for both artists. \n",
    "You can use `seaborn` to plot densities or plot histograms in matplotlib."
   ]
  },
  {
   "cell_type": "code",
   "execution_count": 73,
   "id": "976a0a9f-8267-4f07-bc12-2977548f040e",
   "metadata": {},
   "outputs": [
    {
     "name": "stdout",
     "output_type": "stream",
     "text": [
      "  Artist                               Song  SentimentScore\n",
      "0   joni     jonimitchell_ladiesofthecanyon               8\n",
      "1   joni          jonimitchell_bothsidesnow               0\n",
      "2   joni  jonimitchell_idontknowwhereistand              -7\n",
      "3   joni                jonimitchell_marcie               3\n",
      "4   joni             jonimitchell_ihadaking              -6\n"
     ]
    }
   ],
   "source": [
    "# First we need to create a DataFrame from the dictionary of sentiment_results\n",
    "\n",
    "# Flatten the sentiment_results dictionary into a list of tuples\n",
    "data = []\n",
    "for artist, songs in sentiment_results.items():\n",
    "    for song, score in songs.items():\n",
    "        data.append((artist, song, score))\n",
    "\n",
    "# Create a DataFrame from the list\n",
    "sentiment_results_df = pd.DataFrame(data, columns=['Artist', 'Song', 'SentimentScore'])\n",
    "\n",
    "# Show the first few rows to verify\n",
    "print(sentiment_results_df.head())"
   ]
  },
  {
   "cell_type": "code",
   "execution_count": 74,
   "id": "e7a523ad-7f6f-45f9-83cf-c154405851ee",
   "metadata": {},
   "outputs": [
    {
     "data": {
      "image/png": "[encoded data removed]",
      "text/plain": [
       "<Figure size 1000x600 with 1 Axes>"
      ]
     },
     "metadata": {},
     "output_type": "display_data"
    }
   ],
   "source": [
    "# Plotting the results\n",
    "plt.figure(figsize=(10, 6))\n",
    "sns.kdeplot(data=sentiment_results_df, x=\"SentimentScore\", hue=\"Artist\", fill=True, common_norm=False, alpha=0.5)\n",
    "plt.title('Distribution of Sentiment Scores for Both Artists')\n",
    "plt.xlabel('Sentiment Score')\n",
    "plt.ylabel('Density')\n",
    "plt.show()\n"
   ]
  },
  {
   "cell_type": "markdown",
   "id": "b3fe644d",
   "metadata": {},
   "source": [
    "## Sentiment Analysis on Twitter Descriptions\n",
    "\n",
    "In this section, define two sets of emojis you designate as positive and negative. Make sure to have at least 10 emojis per set. You can learn about the most popular emojis on Twitter at [the emojitracker](https://emojitracker.com/). \n",
    "\n",
    "Associate your positive emojis with a score of +1, negative with -1. Score the average sentiment of your two artists based on the Twitter descriptions of their followers. The average sentiment can just be the total score divided by number of followers. You do not need to calculate sentiment on non-emoji content for this section."
   ]
  },
  {
   "cell_type": "code",
   "execution_count": 75,
   "id": "1a5c1d25",
   "metadata": {},
   "outputs": [
    {
     "name": "stdout",
     "output_type": "stream",
     "text": [
      "Artist: cher, Average Emoji Sentiment Score: 0.03401293279970682\n",
      "Artist: robynkonichiwa, Average Emoji Sentiment Score: 0.02235101416680386\n"
     ]
    }
   ],
   "source": [
    "# your code here\n",
    "\n",
    "# We start by setting the emoji sets\n",
    "positive_emojis = set([\"😊\", \"😍\", \"❤️\", \"👍\", \"😁\", \"💕\", \"🎉\", \"✨\", \"🤣\", \"😇\"])\n",
    "negative_emojis = set([\"😠\", \"😢\", \"💔\", \"👎\", \"😡\", \"😞\", \"😥\", \"🤬\", \"😓\", \"😩\"])\n",
    "\n",
    "# Define a function to calculate sentiment scores\n",
    "def calculate_emoji_sentiment(descriptions, positive_emojis, negative_emojis):\n",
    "    score = 0\n",
    "    for description in descriptions:\n",
    "        for emoji in positive_emojis:\n",
    "            score += description.count(emoji)\n",
    "        for emoji in negative_emojis:\n",
    "            score -= description.count(emoji)\n",
    "    return score\n",
    "\n",
    "# Set up a dictionary to contain the average sentiment per artist\n",
    "average_sentiment_per_artist = {}\n",
    "\n",
    "for artist, descriptions in twitter_data.items():\n",
    "    total_score = calculate_emoji_sentiment(descriptions, positive_emojis, negative_emojis)\n",
    "    average_sentiment = total_score / len(descriptions) if descriptions else 0\n",
    "    average_sentiment_per_artist[artist] = average_sentiment\n",
    "\n",
    "# Display the average emoji sentiment score per artist\n",
    "for artist, avg_score in average_sentiment_per_artist.items():\n",
    "    print(f\"Artist: {artist}, Average Emoji Sentiment Score: {avg_score}\")\n"
   ]
  },
  {
   "cell_type": "markdown",
   "id": "fb92eb93",
   "metadata": {},
   "source": [
    "Q: What is the average sentiment of your two artists? \n",
    "\n",
    "A: The average sentiment sentiment score in the twitter data is higher for Cher than it is for Robyn, based on the emojis we defined. It is about 50% higher, indicating Cher has an overall much higher positive sentiment than Robyn.\n",
    "\n",
    "---\n",
    "\n",
    "Q: Which positive emoji is the most popular for each artist? Which negative emoji? \n",
    "\n",
    "A: For both artists, the most popular positive emoji is the small black heart while the most popular negative emoji is the broken red heart. \n",
    "\n"
   ]
  },
  {
   "cell_type": "code",
   "execution_count": 77,
   "id": "037c3e93-fc23-40ca-aa3b-fbdca00c9549",
   "metadata": {},
   "outputs": [
    {
     "name": "stdout",
     "output_type": "stream",
     "text": [
      "Artist: cher\n",
      "  Most Popular Positive Emoji: ❤️ (Count: 55206)\n",
      "  Most Popular Negative Emoji: 💔 (Count: 2001)\n",
      "\n",
      "Artist: robynkonichiwa\n",
      "  Most Popular Positive Emoji: ❤️ (Count: 3461)\n",
      "  Most Popular Negative Emoji: 💔 (Count: 72)\n",
      "\n"
     ]
    }
   ],
   "source": [
    "# First we set up a function to count the emojis\n",
    "def count_emojis(descriptions, emoji_set):\n",
    "    emoji_counts = defaultdict(int)\n",
    "    for description in descriptions:\n",
    "        for emoji in emoji_set:\n",
    "            emoji_counts[emoji] += description.count(emoji)\n",
    "    return emoji_counts\n",
    "\n",
    "# Setting up a dictionary to contain the most popular emojis per artist\n",
    "most_popular_emojis_per_artist = {}\n",
    "\n",
    "for artist, descriptions in twitter_data.items():\n",
    "    # Count the frequency of positive and negative emojis\n",
    "    positive_emoji_counts = count_emojis(descriptions, positive_emojis)\n",
    "    negative_emoji_counts = count_emojis(descriptions, negative_emojis)\n",
    "    \n",
    "    # Find the most popular positive and negative emoji\n",
    "    most_popular_positive = max(positive_emoji_counts, key=positive_emoji_counts.get, default=\"N/A\")\n",
    "    most_popular_negative = max(negative_emoji_counts, key=negative_emoji_counts.get, default=\"N/A\")\n",
    "    \n",
    "    most_popular_emojis_per_artist[artist] = {\n",
    "        \"Most Popular Positive Emoji\": most_popular_positive,\n",
    "        \"Most Popular Negative Emoji\": most_popular_negative,\n",
    "        \"Positive Emoji Count\": positive_emoji_counts[most_popular_positive] if most_popular_positive != \"N/A\" else 0,\n",
    "        \"Negative Emoji Count\": negative_emoji_counts[most_popular_negative] if most_popular_negative != \"N/A\" else 0,\n",
    "    }\n",
    "\n",
    "# Display the most popular emojis for each artist\n",
    "for artist, info in most_popular_emojis_per_artist.items():\n",
    "    print(f\"Artist: {artist}\")\n",
    "    print(f\"  Most Popular Positive Emoji: {info['Most Popular Positive Emoji']} (Count: {info['Positive Emoji Count']})\")\n",
    "    print(f\"  Most Popular Negative Emoji: {info['Most Popular Negative Emoji']} (Count: {info['Negative Emoji Count']})\\n\")\n"
   ]
  }
 ],
 "metadata": {
  "kernelspec": {
   "display_name": "Python 3 (ipykernel)",
   "language": "python",
   "name": "python3"
  },
  "language_info": {
   "codemirror_mode": {
    "name": "ipython",
    "version": 3
   },
   "file_extension": ".py",
   "mimetype": "text/x-python",
   "name": "python",
   "nbconvert_exporter": "python",
   "pygments_lexer": "ipython3",
   "version": "3.11.4"
  }
 },
 "nbformat": 4,
 "nbformat_minor": 5
}
